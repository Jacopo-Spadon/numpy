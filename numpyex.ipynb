{
 "cells": [
  {
   "cell_type": "code",
   "execution_count": 33,
   "metadata": {},
   "outputs": [],
   "source": [
    "import numpy as np"
   ]
  },
  {
   "cell_type": "code",
   "execution_count": 34,
   "metadata": {},
   "outputs": [
    {
     "data": {
      "text/plain": [
       "0"
      ]
     },
     "execution_count": 34,
     "metadata": {},
     "output_type": "execute_result"
    }
   ],
   "source": [
    "#Ex1\n",
    "#Given, there are 5 numbers in the data set: (8, 12, 16, 24, 4). \n",
    "#What will be the sum of deviations of individual data points from their mean?\n",
    "\n",
    "ex_1_array = np.array([8, 12, 16, 24, 4])\n",
    "#print(ex_1_array)\n",
    "\n",
    "ex_1_mean = ex_1_array.mean()\n",
    "#print(ex_1_mean)\n",
    "\n",
    "def result_ex_1(ex_1_array):\n",
    "    list_ex_1 = []\n",
    "    for number in ex_1_array:\n",
    "        list_ex_1.append(ex_1_mean - number)\n",
    "    sum(list_ex_1) \n",
    "    return round(sum(list_ex_1))\n",
    "    \n",
    "result_ex_1(ex_1_array)\n",
    "\n"
   ]
  },
  {
   "cell_type": "code",
   "execution_count": null,
   "metadata": {},
   "outputs": [],
   "source": [
    "#Ex2\n",
    "#If some outliers are introduced to the dataset, what will happen to the Standard Deviation ? \n",
    "\n",
    "# A) Standard Deviation is robust to outliers \n",
    "# B) Standard Deviation will increase with the introduction of outliers. \n",
    "# C) Standard Deviation will decrease with the introduction of outliers. \n",
    "# D) Can not be determined.\n"
   ]
  }
 ],
 "metadata": {
  "interpreter": {
   "hash": "4ab92f9d484bccba0f50fef4945cfa2ff18621070182d288e11e1b27e8c09bd3"
  },
  "kernelspec": {
   "display_name": "Python 3.8.8 64-bit ('base': conda)",
   "name": "python3"
  },
  "language_info": {
   "codemirror_mode": {
    "name": "ipython",
    "version": 3
   },
   "file_extension": ".py",
   "mimetype": "text/x-python",
   "name": "python",
   "nbconvert_exporter": "python",
   "pygments_lexer": "ipython3",
   "version": "3.8.8"
  },
  "orig_nbformat": 4
 },
 "nbformat": 4,
 "nbformat_minor": 2
}
